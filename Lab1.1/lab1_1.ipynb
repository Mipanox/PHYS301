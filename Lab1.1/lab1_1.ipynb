{
 "cells": [
  {
   "cell_type": "markdown",
   "metadata": {
    "deletable": true,
    "editable": true
   },
   "source": [
    "# Lab 1.1 Analysis\n",
    "** Jason Chou **"
   ]
  },
  {
   "cell_type": "markdown",
   "metadata": {},
   "source": [
    "---\n",
    "### Scientific Target: M81 from the 2016/03/30 archive for the 24 inch"
   ]
  },
  {
   "cell_type": "code",
   "execution_count": 46,
   "metadata": {
    "collapsed": false,
    "deletable": true,
    "editable": true
   },
   "outputs": [],
   "source": [
    "import numpy as np\n",
    "import pyfits\n",
    "import pandas as pd\n",
    "import matplotlib.pylab as plt\n",
    "from process import *\n",
    "%matplotlib inline"
   ]
  },
  {
   "cell_type": "code",
   "execution_count": 66,
   "metadata": {
    "collapsed": true
   },
   "outputs": [],
   "source": [
    "exec(open('/afs/ir.stanford.edu/class/physics100/workdir/g2/Jason/supp.py'))"
   ]
  },
  {
   "cell_type": "markdown",
   "metadata": {},
   "source": [
    "To effectively choose the calibration data, we should check the following:\n",
    "* **Date and time**: The calibration images and the target (here M81) should be observed in roughly the same date and time. This minimizes contaminations from long-term variation like weather, etc.\n",
    "* **Exposure duration**: This is important for dark frame calibration, as we do not want to subtract too much or too less dark frame images from the science images.\n",
    "* **CCD temperature**: Also necessary for dark frame subtraction because dark currents are highly dependent on temperature. The images with substantially different temperatures should be thrown away.\n",
    "* **Filter**: Although we have no idea how the flat field calibration images were obtained (e.g., twilight, dark sky, or other sources), the wavelength is always a cruicial factor for the properties of the images. So we have to make sure that we correct for the flat field images in the same band as the science images."
   ]
  },
  {
   "cell_type": "code",
   "execution_count": 36,
   "metadata": {
    "collapsed": true,
    "deletable": true,
    "editable": true
   },
   "outputs": [],
   "source": [
    "## where we've linked the archival data\n",
    "datadir = '/afs/ir.stanford.edu/class/physics100/workdir/g2/M81/arch_1'"
   ]
  },
  {
   "cell_type": "code",
   "execution_count": 37,
   "metadata": {
    "collapsed": false,
    "deletable": true,
    "editable": true
   },
   "outputs": [],
   "source": [
    "## list of the fits file\n",
    "M81_R_list = np.asarray(pd.read_csv(datadir+'/R/fitsfiles.list'))\n",
    "M81_G_list = np.asarray(pd.read_csv(datadir+'/G/fitsfiles.list'))\n",
    "M81_B_list = np.asarray(pd.read_csv(datadir+'/B/fitsfiles.list'))\n",
    "M81_Cali_list = np.asarray(pd.read_csv(datadir+'/Cali/fitsfiles.list'))"
   ]
  },
  {
   "cell_type": "markdown",
   "metadata": {},
   "source": [
    "Take a look at a header, what is missing?<br>\n",
    "No target name (or coordinates) and angular size of the pixels (or equivalently the focal length)!\n",
    "\n",
    "Fortunately we know the first from the file name and the second is not needed for our purpose (which I suppose so because all images were taken with the same settings)"
   ]
  },
  {
   "cell_type": "code",
   "execution_count": 38,
   "metadata": {
    "collapsed": false
   },
   "outputs": [
    {
     "name": "stdout",
     "output_type": "stream",
     "text": [
      "SIMPLE  =                    T                                                  \n",
      "BITPIX  =                   16 /8 unsigned int, 16 & 32 int, -32 & -64 real     \n",
      "NAXIS   =                    2 /number of axes                                  \n",
      "NAXIS1  =                  512 /fastest changing axis                           \n",
      "NAXIS2  =                  512 /next to fastest changing axis                   \n",
      "BSCALE  =   1.0000000000000000 /physical = BZERO + BSCALE*array_value           \n",
      "BZERO   =   32768.000000000000 /physical = BZERO + BSCALE*array_value           \n",
      "INSTRUME= 'Apogee  ' /          instrument or camera used                       \n",
      "DATE-OBS= '2016-03-26T19:59:29' /YYYY-MM-DDThh:mm:ss observation start, UT      \n",
      "EXPTIME =  0.00000000000000000 /Exposure time in seconds                        \n",
      "EXPOSURE=  0.00000000000000000 /Exposure time in seconds                        \n",
      "SET-TEMP=  -40.000000000000000 /CCD temperature setpoint in C                   \n",
      "CCD-TEMP=  -39.836309523809526 /CCD temperature at start of exposure in C       \n",
      "XPIXSZ  =   48.000000000000007 /Pixel Width in microns (after binning)          \n",
      "YPIXSZ  =   48.000000000000007 /Pixel Height in microns (after binning)         \n",
      "XBINNING=                    2 /Binning factor in width                         \n",
      "YBINNING=                    2 /Binning factor in height                        \n",
      "XORGSUBF=                    0 /Subframe X position in binned pixels            \n",
      "YORGSUBF=                    0 /Subframe Y position in binned pixels            \n",
      "IMAGETYP= 'Bias Frame' /        Type of image                                   \n",
      "FOCALLEN=  0.00000000000000000 /Focal length of telescope in mm                 \n",
      "APTDIA  =  0.00000000000000000 /Aperture diameter of telescope in mm            \n",
      "APTAREA =  0.00000000000000000 /Aperture area of telescope in mm^2              \n",
      "SWCREATE= 'MaxIm DL Version 4.51' /Name of software that created the image      \n",
      "SBSTDVER= 'SBFITSEXT Version 1.0' /Version of SBFITSEXT standard in effect      \n",
      "SWOWNER = 'Stanford University, Physics-2' /Licensed owner of software          \n"
     ]
    }
   ],
   "source": [
    "test = pyfits.open(M81_Cali_list[0][0])\n",
    "print test[0].header"
   ]
  },
  {
   "cell_type": "markdown",
   "metadata": {},
   "source": [
    "---\n",
    "### Selection of calibration data\n",
    "Science data"
   ]
  },
  {
   "cell_type": "code",
   "execution_count": 59,
   "metadata": {
    "collapsed": false,
    "deletable": true,
    "editable": true
   },
   "outputs": [
    {
     "name": "stdout",
     "output_type": "stream",
     "text": [
      "/afs/.ir/users/j/a/jasonhc/physics100/workdir/g2/M81/arch_1/R/M81_002R.fit\n",
      "starttime  2016-03-30T20:50:16\n",
      "duration   40.0\n",
      "ccd temp   -39.9255952381\n",
      "filter     Red\n",
      "\n",
      "/afs/.ir/users/j/a/jasonhc/physics100/workdir/g2/M81/arch_1/R/M81_003R.fit\n",
      "starttime  2016-03-30T20:53:44\n",
      "duration   40.0\n",
      "ccd temp   -39.9255952381\n",
      "filter     Red\n",
      "\n",
      "/afs/.ir/users/j/a/jasonhc/physics100/workdir/g2/M81/arch_1/R/M81_004R.fit\n",
      "starttime  2016-03-30T20:57:12\n",
      "duration   40.0\n",
      "ccd temp   -39.9702380952\n",
      "filter     Red\n",
      "\n",
      "/afs/.ir/users/j/a/jasonhc/physics100/workdir/g2/M81/arch_1/R/M81_005R.fit\n",
      "starttime  2016-03-30T20:59:49\n",
      "duration   40.0\n",
      "ccd temp   -39.9702380952\n",
      "filter     Red\n",
      "\n",
      "/afs/.ir/users/j/a/jasonhc/physics100/workdir/g2/M81/arch_1/R/M81_006R.fit\n",
      "starttime  2016-03-30T21:03:17\n",
      "duration   40.0\n",
      "ccd temp   -40.0148809524\n",
      "filter     Red\n",
      "\n",
      "/afs/.ir/users/j/a/jasonhc/physics100/workdir/g2/M81/arch_1/R/M81_007R.fit\n",
      "starttime  2016-03-30T21:05:54\n",
      "duration   40.0\n",
      "ccd temp   -40.0148809524\n",
      "filter     Red\n",
      "\n",
      "/afs/.ir/users/j/a/jasonhc/physics100/workdir/g2/M81/arch_1/G/M81_002G.fit\n",
      "starttime  2016-03-30T20:51:09\n",
      "duration   40.0\n",
      "ccd temp   -39.9255952381\n",
      "filter     Green\n",
      "\n",
      "/afs/.ir/users/j/a/jasonhc/physics100/workdir/g2/M81/arch_1/G/M81_003G.fit\n",
      "starttime  2016-03-30T20:54:37\n",
      "duration   40.0\n",
      "ccd temp   -39.9702380952\n",
      "filter     Green\n",
      "\n",
      "/afs/.ir/users/j/a/jasonhc/physics100/workdir/g2/M81/arch_1/G/M81_004G.fit\n",
      "starttime  2016-03-30T20:58:05\n",
      "duration   40.0\n",
      "ccd temp   -39.9702380952\n",
      "filter     Green\n",
      "\n",
      "/afs/.ir/users/j/a/jasonhc/physics100/workdir/g2/M81/arch_1/G/M81_005G.fit\n",
      "starttime  2016-03-30T21:00:42\n",
      "duration   40.0\n",
      "ccd temp   -39.9702380952\n",
      "filter     Green\n",
      "\n",
      "/afs/.ir/users/j/a/jasonhc/physics100/workdir/g2/M81/arch_1/G/M81_006G.fit\n",
      "starttime  2016-03-30T21:04:10\n",
      "duration   40.0\n",
      "ccd temp   -40.0148809524\n",
      "filter     Green\n",
      "\n",
      "/afs/.ir/users/j/a/jasonhc/physics100/workdir/g2/M81/arch_1/G/M81_007G.fit\n",
      "starttime  2016-03-30T21:06:47\n",
      "duration   40.0\n",
      "ccd temp   -40.0148809524\n",
      "filter     Green\n",
      "\n",
      "/afs/.ir/users/j/a/jasonhc/physics100/workdir/g2/M81/arch_1/B/M81_002B.fit\n",
      "starttime  2016-03-30T20:52:01\n",
      "duration   40.0\n",
      "ccd temp   -39.9255952381\n",
      "filter     Blue\n",
      "\n",
      "/afs/.ir/users/j/a/jasonhc/physics100/workdir/g2/M81/arch_1/B/M81_003B.fit\n",
      "starttime  2016-03-30T20:55:30\n",
      "duration   40.0\n",
      "ccd temp   -39.9702380952\n",
      "filter     Blue\n",
      "\n",
      "/afs/.ir/users/j/a/jasonhc/physics100/workdir/g2/M81/arch_1/B/M81_004B.fit\n",
      "starttime  2016-03-30T20:58:57\n",
      "duration   40.0\n",
      "ccd temp   -39.9702380952\n",
      "filter     Blue\n",
      "\n",
      "/afs/.ir/users/j/a/jasonhc/physics100/workdir/g2/M81/arch_1/B/M81_005B.fit\n",
      "starttime  2016-03-30T21:01:35\n",
      "duration   40.0\n",
      "ccd temp   -39.9702380952\n",
      "filter     Blue\n",
      "\n",
      "/afs/.ir/users/j/a/jasonhc/physics100/workdir/g2/M81/arch_1/B/M81_006B.fit\n",
      "starttime  2016-03-30T21:05:02\n",
      "duration   40.0\n",
      "ccd temp   -40.0148809524\n",
      "filter     Blue\n",
      "\n",
      "/afs/.ir/users/j/a/jasonhc/physics100/workdir/g2/M81/arch_1/B/M81_007B.fit\n",
      "starttime  2016-03-30T21:07:40\n",
      "duration   40.0\n",
      "ccd temp   -40.0148809524\n",
      "filter     Blue\n",
      "\n"
     ]
    }
   ],
   "source": [
    "display_header(M81_R_list)\n",
    "display_header(M81_G_list)\n",
    "display_header(M81_B_list)"
   ]
  },
  {
   "cell_type": "markdown",
   "metadata": {},
   "source": [
    "It seems that these observations were made at about 21:00 (on 3/30/16) an dthe CCD temperature was always around -40. The exposure time was fixed at 40 seconds. But which ones should I use?\n",
    "* To conform to the observation time for the dark frames (below), how about around 20:58?\n",
    "* I also noticed \"drifting\" of the sources from frame to frame (observed at different times). This indicates that the telescope was NOT rotating accordingly (at least not correctly). This augments the previous point of choosing images -- R, G, B -- that were observed concurrently. In addition, this infers that we should NOT combine multiple science images (for calibrations, they are artifacts in the optical system independent of the sky so we can still do that)! I end up choosing the following: `004B`, `004G`, and `005R`.\n",
    "\n",
    "To make sure that the sky appeared at the same position on these three images, the following `DS9` images show a over-saturated rendering of the zoomed-in source. The readings of the pixel values are for the little encircled point source (presumably a background source). (Unfortunately each image took 40 seconds so there is no way to find perfectly matching images; nonetheless, the discrepancy is within one pixel, which should be fine)"
   ]
  },
  {
   "cell_type": "markdown",
   "metadata": {},
   "source": [
    "---\n",
    "Now the calibration data<br>\n",
    "- Bias"
   ]
  },
  {
   "cell_type": "code",
   "execution_count": 60,
   "metadata": {
    "collapsed": false
   },
   "outputs": [
    {
     "name": "stdout",
     "output_type": "stream",
     "text": [
      "/afs/.ir/users/j/a/jasonhc/physics100/workdir/g2/M81/arch_1/Cali/bias_002.fit\n",
      "starttime  2016-03-26T19:59:29\n",
      "duration   0.0\n",
      "ccd temp   -39.8363095238\n",
      "filter     Bias Frame\n",
      "\n",
      "/afs/.ir/users/j/a/jasonhc/physics100/workdir/g2/M81/arch_1/Cali/bias_003.fit\n",
      "starttime  2016-03-26T19:59:39\n",
      "duration   0.0\n",
      "ccd temp   -39.8363095238\n",
      "filter     Bias Frame\n",
      "\n",
      "/afs/.ir/users/j/a/jasonhc/physics100/workdir/g2/M81/arch_1/Cali/bias_004.fit\n",
      "starttime  2016-03-26T19:59:49\n",
      "duration   0.0\n",
      "ccd temp   -39.8363095238\n",
      "filter     Bias Frame\n",
      "\n",
      "/afs/.ir/users/j/a/jasonhc/physics100/workdir/g2/M81/arch_1/Cali/bias_005.fit\n",
      "starttime  2016-03-26T19:59:59\n",
      "duration   0.0\n",
      "ccd temp   -39.8363095238\n",
      "filter     Bias Frame\n",
      "\n",
      "/afs/.ir/users/j/a/jasonhc/physics100/workdir/g2/M81/arch_1/Cali/bias_006.fit\n",
      "starttime  2016-03-26T20:00:10\n",
      "duration   0.0\n",
      "ccd temp   -39.8363095238\n",
      "filter     Bias Frame\n",
      "\n",
      "/afs/.ir/users/j/a/jasonhc/physics100/workdir/g2/M81/arch_1/Cali/bias_007.fit\n",
      "starttime  2016-03-26T20:00:20\n",
      "duration   0.0\n",
      "ccd temp   -39.8363095238\n",
      "filter     Bias Frame\n",
      "\n",
      "/afs/.ir/users/j/a/jasonhc/physics100/workdir/g2/M81/arch_1/Cali/bias_008.fit\n",
      "starttime  2016-03-26T20:00:30\n",
      "duration   0.0\n",
      "ccd temp   -39.8363095238\n",
      "filter     Bias Frame\n",
      "\n",
      "/afs/.ir/users/j/a/jasonhc/physics100/workdir/g2/M81/arch_1/Cali/bias_009.fit\n",
      "starttime  2016-03-26T20:00:40\n",
      "duration   0.0\n",
      "ccd temp   -39.8363095238\n",
      "filter     Bias Frame\n",
      "\n",
      "/afs/.ir/users/j/a/jasonhc/physics100/workdir/g2/M81/arch_1/Cali/bias_010.fit\n",
      "starttime  2016-03-26T20:00:51\n",
      "duration   0.0\n",
      "ccd temp   -39.8363095238\n",
      "filter     Bias Frame\n",
      "\n",
      "/afs/.ir/users/j/a/jasonhc/physics100/workdir/g2/M81/arch_1/Cali/bias_011.fit\n",
      "starttime  2016-03-26T20:01:01\n",
      "duration   0.0\n",
      "ccd temp   -39.8363095238\n",
      "filter     Bias Frame\n",
      "\n",
      "/afs/.ir/users/j/a/jasonhc/physics100/workdir/g2/M81/arch_1/Cali/bias_012.fit\n",
      "starttime  2016-03-26T20:01:11\n",
      "duration   0.0\n",
      "ccd temp   -39.8363095238\n",
      "filter     Bias Frame\n",
      "\n",
      "/afs/.ir/users/j/a/jasonhc/physics100/workdir/g2/M81/arch_1/Cali/bias_013.fit\n",
      "starttime  2016-03-26T20:01:21\n",
      "duration   0.0\n",
      "ccd temp   -39.8363095238\n",
      "filter     Bias Frame\n",
      "\n",
      "/afs/.ir/users/j/a/jasonhc/physics100/workdir/g2/M81/arch_1/Cali/bias_014.fit\n",
      "starttime  2016-03-26T20:01:32\n",
      "duration   0.0\n",
      "ccd temp   -39.8363095238\n",
      "filter     Bias Frame\n",
      "\n",
      "/afs/.ir/users/j/a/jasonhc/physics100/workdir/g2/M81/arch_1/Cali/bias_015.fit\n",
      "starttime  2016-03-26T20:01:42\n",
      "duration   0.0\n",
      "ccd temp   -39.8363095238\n",
      "filter     Bias Frame\n",
      "\n"
     ]
    }
   ],
   "source": [
    "display_header(M81_Cali_list,option='bias')"
   ]
  },
  {
   "cell_type": "markdown",
   "metadata": {},
   "source": [
    "Well, sadly they were all obtained on a different date... But let us assume that the instrument was maintained at the same status... We should check if there was \"cosmic ray events\" as well:"
   ]
  },
  {
   "cell_type": "code",
   "execution_count": 67,
   "metadata": {
    "collapsed": false
   },
   "outputs": [
    {
     "name": "stdout",
     "output_type": "stream",
     "text": [
      "/afs/.ir/users/j/a/jasonhc/physics100/workdir/g2/M81/arch_1/Cali/bias_002.fit\n",
      "Max = 4380.0, Median = 3929.0, Min = 3837.0\n",
      "/afs/.ir/users/j/a/jasonhc/physics100/workdir/g2/M81/arch_1/Cali/bias_003.fit\n",
      "Max = 4509.0, Median = 3942.0, Min = 3837.0\n",
      "/afs/.ir/users/j/a/jasonhc/physics100/workdir/g2/M81/arch_1/Cali/bias_004.fit\n",
      "Max = 4367.0, Median = 3932.0, Min = 3835.0\n",
      "/afs/.ir/users/j/a/jasonhc/physics100/workdir/g2/M81/arch_1/Cali/bias_005.fit\n",
      "Max = 4448.0, Median = 3932.0, Min = 3834.0\n",
      "/afs/.ir/users/j/a/jasonhc/physics100/workdir/g2/M81/arch_1/Cali/bias_006.fit\n",
      "Max = 4361.0, Median = 3932.0, Min = 3835.0\n",
      "/afs/.ir/users/j/a/jasonhc/physics100/workdir/g2/M81/arch_1/Cali/bias_007.fit\n",
      "Max = 4353.0, Median = 3940.0, Min = 3836.0\n",
      "/afs/.ir/users/j/a/jasonhc/physics100/workdir/g2/M81/arch_1/Cali/bias_008.fit\n",
      "Max = 5721.0, Median = 3940.0, Min = 3837.0\n",
      "/afs/.ir/users/j/a/jasonhc/physics100/workdir/g2/M81/arch_1/Cali/bias_009.fit\n",
      "Max = 4360.0, Median = 3931.0, Min = 3837.0\n",
      "/afs/.ir/users/j/a/jasonhc/physics100/workdir/g2/M81/arch_1/Cali/bias_010.fit\n",
      "Max = 6201.0, Median = 3931.0, Min = 3836.0\n",
      "/afs/.ir/users/j/a/jasonhc/physics100/workdir/g2/M81/arch_1/Cali/bias_011.fit\n",
      "Max = 4354.0, Median = 3932.0, Min = 3836.0\n",
      "/afs/.ir/users/j/a/jasonhc/physics100/workdir/g2/M81/arch_1/Cali/bias_012.fit\n",
      "Max = 4346.0, Median = 3932.0, Min = 3837.0\n",
      "/afs/.ir/users/j/a/jasonhc/physics100/workdir/g2/M81/arch_1/Cali/bias_013.fit\n",
      "Max = 4353.0, Median = 3932.0, Min = 3838.0\n",
      "/afs/.ir/users/j/a/jasonhc/physics100/workdir/g2/M81/arch_1/Cali/bias_014.fit\n",
      "Max = 4731.0, Median = 3941.0, Min = 3837.0\n",
      "/afs/.ir/users/j/a/jasonhc/physics100/workdir/g2/M81/arch_1/Cali/bias_015.fit\n",
      "Max = 4352.0, Median = 3932.0, Min = 3837.0\n"
     ]
    }
   ],
   "source": [
    "image_range(M81_Cali_list,option='bias')"
   ]
  },
  {
   "cell_type": "markdown",
   "metadata": {},
   "source": [
    "From this, albeit that some files (e.g. 008 and 010) contain abnormally large readings (which could be attributed to cosmic rays!), the medians are similar. So I'll keep all of them in the calibration below.\n",
    "\n",
    "- Dark frame"
   ]
  },
  {
   "cell_type": "code",
   "execution_count": 61,
   "metadata": {
    "collapsed": false
   },
   "outputs": [
    {
     "name": "stdout",
     "output_type": "stream",
     "text": [
      "/afs/.ir/users/j/a/jasonhc/physics100/workdir/g2/M81/arch_1/Cali/dark_001.fit\n",
      "starttime  2016-03-30T22:38:34\n",
      "duration   50.0\n",
      "ccd temp   -39.9107142857\n",
      "filter     Dark Frame\n",
      "\n",
      "/afs/.ir/users/j/a/jasonhc/physics100/workdir/g2/M81/arch_1/Cali/dark_002.fit\n",
      "starttime  2016-03-30T22:45:49\n",
      "duration   50.0\n",
      "ccd temp   -39.9255952381\n",
      "filter     Dark Frame\n",
      "\n",
      "/afs/.ir/users/j/a/jasonhc/physics100/workdir/g2/M81/arch_1/Cali/dark_003.fit\n",
      "starttime  2016-03-30T22:49:57\n",
      "duration   50.0\n",
      "ccd temp   -39.9255952381\n",
      "filter     Dark Frame\n",
      "\n",
      "/afs/.ir/users/j/a/jasonhc/physics100/workdir/g2/M81/arch_1/Cali/dark_004.fit\n",
      "starttime  2016-03-30T22:54:05\n",
      "duration   50.0\n",
      "ccd temp   -39.9255952381\n",
      "filter     Dark Frame\n",
      "\n",
      "/afs/.ir/users/j/a/jasonhc/physics100/workdir/g2/M81/arch_1/Cali/dark_005.fit\n",
      "starttime  2016-03-30T22:58:13\n",
      "duration   50.0\n",
      "ccd temp   -39.9404761905\n",
      "filter     Dark Frame\n",
      "\n"
     ]
    }
   ],
   "source": [
    "display_header(M81_Cali_list,option='dark')"
   ]
  },
  {
   "cell_type": "markdown",
   "metadata": {},
   "source": [
    "Apparently the first dark frame image was acquired a bit too early, I will not use it (cf. the first science image was made at ~22:50; and the temperutares differ too). Also note the exposure time difference! \n",
    "- Flat field"
   ]
  },
  {
   "cell_type": "code",
   "execution_count": 69,
   "metadata": {
    "collapsed": false
   },
   "outputs": [
    {
     "name": "stdout",
     "output_type": "stream",
     "text": [
      "/afs/.ir/users/j/a/jasonhc/physics100/workdir/g2/M81/arch_1/Cali/flat_001B.fit\n",
      "starttime  2016-03-26T19:35:07\n",
      "duration   0.75\n",
      "ccd temp   -39.4047619048\n",
      "filter     Blue\n",
      "\n",
      "/afs/.ir/users/j/a/jasonhc/physics100/workdir/g2/M81/arch_1/Cali/flat_001G.fit\n",
      "starttime  2016-03-26T19:34:53\n",
      "duration   0.75\n",
      "ccd temp   -39.4047619048\n",
      "filter     Green\n",
      "\n",
      "/afs/.ir/users/j/a/jasonhc/physics100/workdir/g2/M81/arch_1/Cali/flat_001R.fit\n",
      "starttime  2016-03-26T19:34:39\n",
      "duration   0.75\n",
      "ccd temp   -39.4047619048\n",
      "filter     Red\n",
      "\n",
      "/afs/.ir/users/j/a/jasonhc/physics100/workdir/g2/M81/arch_1/Cali/flat_002B.fit\n",
      "starttime  2016-03-26T19:36:07\n",
      "duration   0.75\n",
      "ccd temp   -39.4196428571\n",
      "filter     Blue\n",
      "\n",
      "/afs/.ir/users/j/a/jasonhc/physics100/workdir/g2/M81/arch_1/Cali/flat_002G.fit\n",
      "starttime  2016-03-26T19:35:53\n",
      "duration   0.75\n",
      "ccd temp   -39.4196428571\n",
      "filter     Green\n",
      "\n",
      "/afs/.ir/users/j/a/jasonhc/physics100/workdir/g2/M81/arch_1/Cali/flat_002R.fit\n",
      "starttime  2016-03-26T19:35:37\n",
      "duration   0.75\n",
      "ccd temp   -39.4196428571\n",
      "filter     Red\n",
      "\n",
      "/afs/.ir/users/j/a/jasonhc/physics100/workdir/g2/M81/arch_1/Cali/flat_003B.fit\n",
      "starttime  2016-03-26T19:37:03\n",
      "duration   0.75\n",
      "ccd temp   -39.4494047619\n",
      "filter     Blue\n",
      "\n",
      "/afs/.ir/users/j/a/jasonhc/physics100/workdir/g2/M81/arch_1/Cali/flat_003G.fit\n",
      "starttime  2016-03-26T19:36:49\n",
      "duration   0.75\n",
      "ccd temp   -39.4494047619\n",
      "filter     Green\n",
      "\n",
      "/afs/.ir/users/j/a/jasonhc/physics100/workdir/g2/M81/arch_1/Cali/flat_003R.fit\n",
      "starttime  2016-03-26T19:36:35\n",
      "duration   0.75\n",
      "ccd temp   -39.4494047619\n",
      "filter     Red\n",
      "\n",
      "/afs/.ir/users/j/a/jasonhc/physics100/workdir/g2/M81/arch_1/Cali/flat_004B.fit\n",
      "starttime  2016-03-26T19:38:00\n",
      "duration   0.75\n",
      "ccd temp   -39.4642857143\n",
      "filter     Blue\n",
      "\n",
      "/afs/.ir/users/j/a/jasonhc/physics100/workdir/g2/M81/arch_1/Cali/flat_004G.fit\n",
      "starttime  2016-03-26T19:37:45\n",
      "duration   0.75\n",
      "ccd temp   -39.4642857143\n",
      "filter     Green\n",
      "\n",
      "/afs/.ir/users/j/a/jasonhc/physics100/workdir/g2/M81/arch_1/Cali/flat_004R.fit\n",
      "starttime  2016-03-26T19:37:31\n",
      "duration   0.75\n",
      "ccd temp   -39.4494047619\n",
      "filter     Red\n",
      "\n",
      "/afs/.ir/users/j/a/jasonhc/physics100/workdir/g2/M81/arch_1/Cali/flat_005B.fit\n",
      "starttime  2016-03-26T19:38:56\n",
      "duration   0.75\n",
      "ccd temp   -39.5238095238\n",
      "filter     Blue\n",
      "\n",
      "/afs/.ir/users/j/a/jasonhc/physics100/workdir/g2/M81/arch_1/Cali/flat_005G.fit\n",
      "starttime  2016-03-26T19:38:42\n",
      "duration   0.75\n",
      "ccd temp   -39.5238095238\n",
      "filter     Green\n",
      "\n",
      "/afs/.ir/users/j/a/jasonhc/physics100/workdir/g2/M81/arch_1/Cali/flat_005R.fit\n",
      "starttime  2016-03-26T19:38:27\n",
      "duration   0.75\n",
      "ccd temp   -39.494047619\n",
      "filter     Red\n",
      "\n",
      "/afs/.ir/users/j/a/jasonhc/physics100/workdir/g2/M81/arch_1/Cali/flat_006B.fit\n",
      "starttime  2016-03-26T19:39:52\n",
      "duration   0.75\n",
      "ccd temp   -39.5982142857\n",
      "filter     Blue\n",
      "\n",
      "/afs/.ir/users/j/a/jasonhc/physics100/workdir/g2/M81/arch_1/Cali/flat_006G.fit\n",
      "starttime  2016-03-26T19:39:38\n",
      "duration   0.75\n",
      "ccd temp   -39.568452381\n",
      "filter     Green\n",
      "\n",
      "/afs/.ir/users/j/a/jasonhc/physics100/workdir/g2/M81/arch_1/Cali/flat_006R.fit\n",
      "starttime  2016-03-26T19:39:24\n",
      "duration   0.75\n",
      "ccd temp   -39.5386904762\n",
      "filter     Red\n",
      "\n",
      "/afs/.ir/users/j/a/jasonhc/physics100/workdir/g2/M81/arch_1/Cali/flat_007B.fit\n",
      "starttime  2016-03-26T19:40:48\n",
      "duration   0.75\n",
      "ccd temp   -39.6279761905\n",
      "filter     Blue\n",
      "\n",
      "/afs/.ir/users/j/a/jasonhc/physics100/workdir/g2/M81/arch_1/Cali/flat_007G.fit\n",
      "starttime  2016-03-26T19:40:34\n",
      "duration   0.75\n",
      "ccd temp   -39.5982142857\n",
      "filter     Green\n",
      "\n",
      "/afs/.ir/users/j/a/jasonhc/physics100/workdir/g2/M81/arch_1/Cali/flat_007R.fit\n",
      "starttime  2016-03-26T19:40:20\n",
      "duration   0.75\n",
      "ccd temp   -39.5982142857\n",
      "filter     Red\n",
      "\n",
      "/afs/.ir/users/j/a/jasonhc/physics100/workdir/g2/M81/arch_1/Cali/flat_008B.fit\n",
      "starttime  2016-03-26T19:41:45\n",
      "duration   0.75\n",
      "ccd temp   -39.6726190476\n",
      "filter     Blue\n",
      "\n",
      "/afs/.ir/users/j/a/jasonhc/physics100/workdir/g2/M81/arch_1/Cali/flat_008G.fit\n",
      "starttime  2016-03-26T19:41:31\n",
      "duration   0.75\n",
      "ccd temp   -39.6726190476\n",
      "filter     Green\n",
      "\n",
      "/afs/.ir/users/j/a/jasonhc/physics100/workdir/g2/M81/arch_1/Cali/flat_008R.fit\n",
      "starttime  2016-03-26T19:41:16\n",
      "duration   0.75\n",
      "ccd temp   -39.6726190476\n",
      "filter     Red\n",
      "\n",
      "/afs/.ir/users/j/a/jasonhc/physics100/workdir/g2/M81/arch_1/Cali/flat_009B.fit\n",
      "starttime  2016-03-26T19:42:41\n",
      "duration   0.75\n",
      "ccd temp   -39.7321428571\n",
      "filter     Blue\n",
      "\n",
      "/afs/.ir/users/j/a/jasonhc/physics100/workdir/g2/M81/arch_1/Cali/flat_009G.fit\n",
      "starttime  2016-03-26T19:42:27\n",
      "duration   0.75\n",
      "ccd temp   -39.7321428571\n",
      "filter     Green\n",
      "\n",
      "/afs/.ir/users/j/a/jasonhc/physics100/workdir/g2/M81/arch_1/Cali/flat_009R.fit\n",
      "starttime  2016-03-26T19:42:13\n",
      "duration   0.75\n",
      "ccd temp   -39.7023809524\n",
      "filter     Red\n",
      "\n",
      "/afs/.ir/users/j/a/jasonhc/physics100/workdir/g2/M81/arch_1/Cali/flat_010B.fit\n",
      "starttime  2016-03-26T19:43:37\n",
      "duration   0.75\n",
      "ccd temp   -39.7619047619\n",
      "filter     Blue\n",
      "\n",
      "/afs/.ir/users/j/a/jasonhc/physics100/workdir/g2/M81/arch_1/Cali/flat_010G.fit\n",
      "starttime  2016-03-26T19:43:23\n",
      "duration   0.75\n",
      "ccd temp   -39.7470238095\n",
      "filter     Green\n",
      "\n",
      "/afs/.ir/users/j/a/jasonhc/physics100/workdir/g2/M81/arch_1/Cali/flat_010R.fit\n",
      "starttime  2016-03-26T19:43:09\n",
      "duration   0.75\n",
      "ccd temp   -39.7321428571\n",
      "filter     Red\n",
      "\n",
      "/afs/.ir/users/j/a/jasonhc/physics100/workdir/g2/M81/arch_1/Cali/flat_011B.fit\n",
      "starttime  2016-03-26T19:44:34\n",
      "duration   0.75\n",
      "ccd temp   -39.7767857143\n",
      "filter     Blue\n",
      "\n",
      "/afs/.ir/users/j/a/jasonhc/physics100/workdir/g2/M81/arch_1/Cali/flat_011G.fit\n",
      "starttime  2016-03-26T19:44:20\n",
      "duration   0.75\n",
      "ccd temp   -39.7619047619\n",
      "filter     Green\n",
      "\n",
      "/afs/.ir/users/j/a/jasonhc/physics100/workdir/g2/M81/arch_1/Cali/flat_011R.fit\n",
      "starttime  2016-03-26T19:44:06\n",
      "duration   0.75\n",
      "ccd temp   -39.7619047619\n",
      "filter     Red\n",
      "\n",
      "/afs/.ir/users/j/a/jasonhc/physics100/workdir/g2/M81/arch_1/Cali/flat_012B.fit\n",
      "starttime  2016-03-26T19:45:30\n",
      "duration   0.75\n",
      "ccd temp   -39.7916666667\n",
      "filter     Blue\n",
      "\n",
      "/afs/.ir/users/j/a/jasonhc/physics100/workdir/g2/M81/arch_1/Cali/flat_012G.fit\n",
      "starttime  2016-03-26T19:45:16\n",
      "duration   0.75\n",
      "ccd temp   -39.7916666667\n",
      "filter     Green\n",
      "\n",
      "/afs/.ir/users/j/a/jasonhc/physics100/workdir/g2/M81/arch_1/Cali/flat_012R.fit\n",
      "starttime  2016-03-26T19:45:02\n",
      "duration   0.75\n",
      "ccd temp   -39.7916666667\n",
      "filter     Red\n",
      "\n",
      "/afs/.ir/users/j/a/jasonhc/physics100/workdir/g2/M81/arch_1/Cali/flat_013B.fit\n",
      "starttime  2016-03-26T19:46:27\n",
      "duration   0.75\n",
      "ccd temp   -39.8363095238\n",
      "filter     Blue\n",
      "\n",
      "/afs/.ir/users/j/a/jasonhc/physics100/workdir/g2/M81/arch_1/Cali/flat_013G.fit\n",
      "starttime  2016-03-26T19:46:13\n",
      "duration   0.75\n",
      "ccd temp   -39.8363095238\n",
      "filter     Green\n",
      "\n",
      "/afs/.ir/users/j/a/jasonhc/physics100/workdir/g2/M81/arch_1/Cali/flat_013R.fit\n",
      "starttime  2016-03-26T19:45:58\n",
      "duration   0.75\n",
      "ccd temp   -39.8214285714\n",
      "filter     Red\n",
      "\n",
      "/afs/.ir/users/j/a/jasonhc/physics100/workdir/g2/M81/arch_1/Cali/flat_014B.fit\n",
      "starttime  2016-03-26T19:47:23\n",
      "duration   0.75\n",
      "ccd temp   -39.9255952381\n",
      "filter     Blue\n",
      "\n",
      "/afs/.ir/users/j/a/jasonhc/physics100/workdir/g2/M81/arch_1/Cali/flat_014G.fit\n",
      "starttime  2016-03-26T19:47:09\n",
      "duration   0.75\n",
      "ccd temp   -39.8958333333\n",
      "filter     Green\n",
      "\n",
      "/afs/.ir/users/j/a/jasonhc/physics100/workdir/g2/M81/arch_1/Cali/flat_014R.fit\n",
      "starttime  2016-03-26T19:46:55\n",
      "duration   0.75\n",
      "ccd temp   -39.8660714286\n",
      "filter     Red\n",
      "\n",
      "/afs/.ir/users/j/a/jasonhc/physics100/workdir/g2/M81/arch_1/Cali/flat_015B.fit\n",
      "starttime  2016-03-26T19:48:19\n",
      "duration   0.75\n",
      "ccd temp   -39.9404761905\n",
      "filter     Blue\n",
      "\n",
      "/afs/.ir/users/j/a/jasonhc/physics100/workdir/g2/M81/arch_1/Cali/flat_015G.fit\n",
      "starttime  2016-03-26T19:48:05\n",
      "duration   0.75\n",
      "ccd temp   -39.9255952381\n",
      "filter     Green\n",
      "\n",
      "/afs/.ir/users/j/a/jasonhc/physics100/workdir/g2/M81/arch_1/Cali/flat_015R.fit\n",
      "starttime  2016-03-26T19:47:51\n",
      "duration   0.75\n",
      "ccd temp   -39.9255952381\n",
      "filter     Red\n",
      "\n"
     ]
    }
   ],
   "source": [
    "display_header(M81_Cali_list,option='flat')"
   ]
  },
  {
   "cell_type": "markdown",
   "metadata": {},
   "source": [
    "Alright... again 26th not 30th... Forget about my intention to select based on time... Nevertheless, two things to be noted here:\n",
    "1. Exposure time was constant: 0.75. This should be accounted for.\n",
    "2. Temperatures in earlier images were a bit too high. But to preserve sufficient images, I cannot discard too many images either. I will use a threshold temperature of -39.8, which corresponds to using images from \"flat_013*\"."
   ]
  },
  {
   "cell_type": "markdown",
   "metadata": {},
   "source": [
    "#### Selection done"
   ]
  },
  {
   "cell_type": "code",
   "execution_count": null,
   "metadata": {
    "collapsed": true,
    "deletable": true,
    "editable": true
   },
   "outputs": [],
   "source": [
    "sciencefile= # Name of the science observation\n",
    "flatfilelist= # A path to a text file that lists the names of all of the flat field images\n",
    "darkfilelist= # A path to a text file that lists the dark current image file names\n",
    "biasfilelist= # A path to a text file that lists the bias image file names\n",
    "basename= # A string prefix for all of your output files"
   ]
  },
  {
   "cell_type": "code",
   "execution_count": null,
   "metadata": {
    "collapsed": false,
    "deletable": true,
    "editable": true
   },
   "outputs": [],
   "source": [
    "finalbias=AverageBias(biasfilelist) \n",
    "# Call your function from incomplete_process that computes the Average Bias \n",
    "# Run it on your biasfilelist\n",
    "print 'Bias Image Created'\n",
    "print finalbias.shape\n",
    "# Does this shape makesense?\n",
    "# Try changing the axis=0 to axis=1 and axis=None in your function and see\n",
    "# how the shape changes"
   ]
  },
  {
   "cell_type": "code",
   "execution_count": null,
   "metadata": {
    "collapsed": true,
    "deletable": true,
    "editable": true
   },
   "outputs": [],
   "source": [
    "plt.imshow(finalbias) # Does the final bias look correct? \n",
    "# You may need to modify the plot options and/or ouput to a fits file (shown below) and\n",
    "# investigate in ds9"
   ]
  },
  {
   "cell_type": "code",
   "execution_count": null,
   "metadata": {
    "collapsed": false,
    "deletable": true,
    "editable": true
   },
   "outputs": [],
   "source": [
    "finaldark=AverageDark(darkfilelist,#What else is needed to get a proper dark current image?)\n",
    "\n",
    "print 'Dark Current Image Created'\n",
    "print finaldark.shape #Compare this to the bias image shape. Must these\n",
    "                      #be the same? What happens if they are not?"
   ]
  },
  {
   "cell_type": "code",
   "execution_count": null,
   "metadata": {
    "collapsed": true,
    "deletable": true,
    "editable": true
   },
   "outputs": [],
   "source": [
    "finalflat=AverageFlat(flatfilelist,finalbias,finaldark)\n",
    "\n",
    "rawdata=pyfits.open(sciencefile)[0] #This gets the 1st extension (starts\n",
    "                      #with 0!) This is an example of using pyfits.open\n",
    "                      #This is a FITS file object"
   ]
  },
  {
   "cell_type": "code",
   "execution_count": null,
   "metadata": {
    "collapsed": true,
    "deletable": true,
    "editable": true
   },
   "outputs": [],
   "source": [
    "finalimage=ScienceExposure(rawdata,finalbias,finaldark,finalflat)\n",
    "\n",
    "sciheader=rawdata.header #This grabs the header object from the FITS object rawdata"
   ]
  },
  {
   "cell_type": "code",
   "execution_count": null,
   "metadata": {
    "collapsed": true,
    "deletable": true,
    "editable": true
   },
   "outputs": [],
   "source": [
    "# Saving files as fits objects\n",
    "newscience=basename+'_CleanScience.fits'  #Appending filenames onto the base\n",
    "newbias=basename+'_Bias.fits'\n",
    "newdark=basename+'_Master_Dark.fits'\n",
    "newflat=basename+'_Master_Flat.fits'\n",
    "\n",
    "sciencehdu=pyfits.PrimaryHDU(finalimage,header=sciheader)  #This converts\n",
    "#a numpy array into a FITS object with a data block (finalimage) and a\n",
    "#header (sciheader)\n",
    "\n",
    "sciencehdu.writeto(newscience, clobber=True) #This writes the fits object\n",
    "                      #to the file name newscience, which is defined\n",
    "                      #above The clobber means to overwrite the file if it\n",
    "                      #already exists.\n",
    "\n",
    "\n",
    "biashdu=pyfits.PrimaryHDU(finalbias) #Further writing of files\n",
    "biashdu.writeto(newbias, clobber=True)\n",
    "\n",
    "darkhdu=pyfits.PrimaryHDU(finaldark)\n",
    "darkhdu.writeto(newdark, clobber=True)\n",
    "\n",
    "#Given the names and conventions, how do we write our final flat field\n",
    "#image to the disk?\n",
    "flathdu="
   ]
  }
 ],
 "metadata": {
  "kernelspec": {
   "display_name": "Python 2",
   "language": "python",
   "name": "python2"
  },
  "language_info": {
   "codemirror_mode": {
    "name": "ipython",
    "version": 2
   },
   "file_extension": ".py",
   "mimetype": "text/x-python",
   "name": "python",
   "nbconvert_exporter": "python",
   "pygments_lexer": "ipython2",
   "version": "2.7.6"
  }
 },
 "nbformat": 4,
 "nbformat_minor": 2
}
