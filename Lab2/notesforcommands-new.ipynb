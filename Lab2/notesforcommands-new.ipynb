{
 "cells": [
  {
   "cell_type": "markdown",
   "metadata": {
    "deletable": true,
    "editable": true
   },
   "source": [
    "# Commands to run\n",
    "#### <font color=\"red\"> (do NOT run this notebook)</font>"
   ]
  },
  {
   "cell_type": "markdown",
   "metadata": {
    "deletable": true,
    "editable": true
   },
   "source": [
    "### Some background\n",
    "#### Target and calibration stars\n",
    "* **Targets:** \n",
    "<p style=\"text-indent: 20px\">Capella - g2<br>\n",
    "<p style=\"text-indent: 20px\">$\\alpha$ Cam - u1<br>\n",
    "* **Calibrs:** \n",
    "<p style=\"text-indent: 20px\">$\\gamma$ UMa - a.k.a. BD+54 1475, FK5 447, GC 16268, HD 103287, HIP 58001, HR 4554, PPM 33292, SAO 28179<br>\n",
    "<p style=\"text-indent: 20px\">$\\eta$ Hya - a.k.a. HR3454\n",
    "\n",
    "#### Helium spectrum (standard)\n",
    "_Reference: Abramzon & Siegel [2009](http://doi.org/10.1119/1.3086029)_\n",
    "<img src='../../Jason/Lab2/He_spec.png' width=80%> </img>"
   ]
  },
  {
   "cell_type": "markdown",
   "metadata": {
    "deletable": true,
    "editable": true
   },
   "source": [
    "---\n",
    "### Preparations"
   ]
  },
  {
   "cell_type": "markdown",
   "metadata": {
    "deletable": true,
    "editable": true
   },
   "source": [
    "#### make new directories and  `login.cl` file\n",
    "_Note: have to manually change the `home`, `imgdir` names, etc._"
   ]
  },
  {
   "cell_type": "code",
   "execution_count": 12,
   "metadata": {
    "collapsed": false,
    "deletable": true,
    "editable": true
   },
   "outputs": [],
   "source": [
    "import os\n",
    "star_list = ['capella','alpha_cam','gamma_uma','eta_hya']\n",
    "for name in star_list:\n",
    "    os.system('mkdir ./new/%s' %name)\n",
    "    os.system('mkdir ./new/%s/pyraf' %name)"
   ]
  },
  {
   "cell_type": "code",
   "execution_count": 13,
   "metadata": {
    "collapsed": true,
    "deletable": true,
    "editable": true
   },
   "outputs": [],
   "source": [
    "for name in star_list:\n",
    "    os.system('cp ~/physics100/login.cl ./new/%s/' %name)"
   ]
  },
  {
   "cell_type": "markdown",
   "metadata": {
    "deletable": true,
    "editable": true
   },
   "source": [
    "#### choosing data"
   ]
  },
  {
   "cell_type": "code",
   "execution_count": 14,
   "metadata": {
    "collapsed": false,
    "deletable": true,
    "editable": true
   },
   "outputs": [
    {
     "data": {
      "text/plain": [
       "0"
      ]
     },
     "execution_count": 14,
     "metadata": {},
     "output_type": "execute_result"
    }
   ],
   "source": [
    "os.system('cp ../2017-05-02_24in/Processed/Processed_Capella_02.fit ./new/capella')\n",
    "os.system('cp ../2017-05-02_24in/Processed/Processed_Gamma_UMa_03.fit ./new/gamma_uma')\n",
    "\n",
    "## and the appropriate Helium spectrum\n",
    "os.system('cp ../2017-05-02_24in/Processed/Processed_Helium1143_01.fit ./new/capella')\n",
    "os.system('cp ../2017-05-02_24in/Processed/Processed_Helium1143_01.fit ./new/gamma_uma')\n",
    "\n",
    "#### U1\n",
    "os.system('cp ../2017-05-03_24in_real/Processed/Processed_U1_alpha_cam_100s.fit ./new/alpha_cam')\n",
    "os.system('cp ../2017-05-03_24in_real/Processed/Processed_U1_helium_arc.fit ./new/alpha_cam')\n",
    "\n",
    "os.system('cp ../2017-05-03_24in_real/Processed/Processed_U1_eta_hya_15s.fit ./new/eta_hya')\n",
    "os.system('cp ../2017-05-03_24in_real/Processed/Processed_U1_helium_arc.fit ./new/eta_hya')"
   ]
  },
  {
   "cell_type": "markdown",
   "metadata": {
    "deletable": true,
    "editable": true
   },
   "source": [
    "### Preliminary calibration\n",
    "Applying SpecMasterFlat"
   ]
  },
  {
   "cell_type": "code",
   "execution_count": 1,
   "metadata": {
    "collapsed": true,
    "deletable": true,
    "editable": true
   },
   "outputs": [],
   "source": [
    "## Done in the computer lab. The copied 'Processed' fits were calibrated by SpecMasterFlat already"
   ]
  },
  {
   "cell_type": "markdown",
   "metadata": {
    "deletable": true,
    "editable": true
   },
   "source": [
    "Normalization"
   ]
  },
  {
   "cell_type": "code",
   "execution_count": 15,
   "metadata": {
    "collapsed": true,
    "deletable": true,
    "editable": true
   },
   "outputs": [],
   "source": [
    "import pyfits\n",
    "import glob\n",
    "\n",
    "gamma_uma_dir = '/afs/ir.stanford.edu/class/physics100/workdir/g2/Spectra/reduction/new/gamma_uma'\n",
    "alpha_cam_dir = '/afs/ir.stanford.edu/class/physics100/workdir/g2/Spectra/reduction/new/alpha_cam'\n",
    "capella_dir   = '/afs/ir.stanford.edu/class/physics100/workdir/g2/Spectra/reduction/new/capella'\n",
    "eta_hya_dir = '/afs/ir.stanford.edu/class/physics100/workdir/g2/Spectra/reduction/new/eta_hya'\n",
    "\n",
    "def normalization(diry,name):\n",
    "    filepath = [f for f in glob.glob(diry+'/*') if name in f]\n",
    "    star = pyfits.open(filepath[0])\n",
    "    time = star[0].header['EXPTIME']\n",
    "    star[0].data = star[0].data/time\n",
    "    star[0].header['EXPTIME'] = 1.\n",
    "    star[0].header['EXPOSURE'] = 1.\n",
    "    star.writeto(diry+'/'+name+'_norm.fits')"
   ]
  },
  {
   "cell_type": "code",
   "execution_count": 16,
   "metadata": {
    "collapsed": false,
    "deletable": true,
    "editable": true
   },
   "outputs": [],
   "source": [
    "normalization(gamma_uma_dir,'Gamma_UMa')\n",
    "normalization(alpha_cam_dir,'U1_alpha_cam')\n",
    "normalization(capella_dir,'Capella')\n",
    "normalization(eta_hya_dir,'U1_eta_hya')"
   ]
  },
  {
   "cell_type": "markdown",
   "metadata": {
    "deletable": true,
    "editable": true
   },
   "source": [
    "### Reduction : Calibration star"
   ]
  },
  {
   "cell_type": "markdown",
   "metadata": {
    "collapsed": true,
    "deletable": true,
    "editable": true
   },
   "source": [
    "Work in each directory for each star<br>\n",
    "_From now on, copy and paste the commands to `ipython` prompt_"
   ]
  },
  {
   "cell_type": "markdown",
   "metadata": {
    "deletable": true,
    "editable": true
   },
   "source": [
    "#### Gamma UMa"
   ]
  },
  {
   "cell_type": "markdown",
   "metadata": {
    "deletable": true,
    "editable": true
   },
   "source": [
    "<font color=\"red\">change paths/name in `login.cl` first</font>"
   ]
  },
  {
   "cell_type": "code",
   "execution_count": null,
   "metadata": {
    "collapsed": true,
    "deletable": true,
    "editable": true
   },
   "outputs": [],
   "source": [
    "## cd ...\n",
    "## ipython "
   ]
  },
  {
   "cell_type": "code",
   "execution_count": null,
   "metadata": {
    "collapsed": true,
    "deletable": true,
    "editable": true
   },
   "outputs": [],
   "source": [
    "import pyfits\n",
    "import numpy as np\n",
    "from pyraf import iraf"
   ]
  },
  {
   "cell_type": "code",
   "execution_count": null,
   "metadata": {
    "collapsed": true,
    "deletable": true,
    "editable": true
   },
   "outputs": [],
   "source": [
    "iraf.noao()\n",
    "iraf.twodspec()\n",
    "iraf.onedspec()\n",
    "iraf.longslit()\n",
    "iraf.apextract()\n",
    "iraf.longslit.dispaxis=2\n",
    "iraf.apextract.dispaxis=2"
   ]
  },
  {
   "cell_type": "code",
   "execution_count": null,
   "metadata": {
    "collapsed": true,
    "deletable": true,
    "editable": true
   },
   "outputs": [],
   "source": [
    "iraf.apall('Gamma_UMa_norm.fits', interactive='yes')\n",
    "## then follow handout"
   ]
  },
  {
   "cell_type": "code",
   "execution_count": null,
   "metadata": {
    "collapsed": true,
    "deletable": true,
    "editable": true
   },
   "outputs": [],
   "source": [
    "iraf.apall('Processed_Helium1143_01',reference='Gamma_UMa_norm')"
   ]
  },
  {
   "cell_type": "code",
   "execution_count": null,
   "metadata": {
    "collapsed": true,
    "deletable": true,
    "editable": true
   },
   "outputs": [],
   "source": [
    "iraf.identify('Processed_Helium1143_01.ms',threshold=0,zwidth=400)"
   ]
  },
  {
   "cell_type": "code",
   "execution_count": null,
   "metadata": {
    "collapsed": true,
    "deletable": true,
    "editable": true
   },
   "outputs": [],
   "source": [
    "iraf.hedit('Gamma_UMa_norm.ms.fits',add='yes')\n",
    "## REFSPEC1\n",
    "## Processed_Helium1143_01.ms.fits"
   ]
  },
  {
   "cell_type": "code",
   "execution_count": null,
   "metadata": {
    "collapsed": true,
    "deletable": true,
    "editable": true
   },
   "outputs": [],
   "source": [
    "iraf.dispcor()\n",
    "## Gamma_UMa_norm.ms.fits\n",
    "## Gamma_UMa_dispcor.fits"
   ]
  },
  {
   "cell_type": "code",
   "execution_count": null,
   "metadata": {
    "collapsed": true,
    "deletable": true,
    "editable": true
   },
   "outputs": [],
   "source": [
    "iraf.wspectext(header='no')\n",
    "## Gamma_UMa_dispcor.fits\n",
    "## Gamma_UMa_dispcor_spec.txt"
   ]
  },
  {
   "cell_type": "code",
   "execution_count": null,
   "metadata": {
    "collapsed": true,
    "deletable": true,
    "editable": true
   },
   "outputs": [],
   "source": [
    "iraf.standard(caldir='/afs/ir.stanford.edu/class/physics100/archive/specstandards/')\n",
    "## Gamma_UMa_dispcor.fits\n",
    "## 'std'\n",
    "## 'lick'\n",
    "## 1.0\n",
    "## hr4554\n",
    "## yes"
   ]
  },
  {
   "cell_type": "code",
   "execution_count": null,
   "metadata": {
    "collapsed": true,
    "deletable": true,
    "editable": true
   },
   "outputs": [],
   "source": [
    "iraf.sensfunc()\n",
    "## std\n",
    "## sens\n",
    "## yes"
   ]
  },
  {
   "cell_type": "code",
   "execution_count": null,
   "metadata": {
    "collapsed": true,
    "deletable": true,
    "editable": true
   },
   "outputs": [],
   "source": [
    "iraf.calibrate()\n",
    "## Gamma_UMa_dispcor.fits\n",
    "## Gamma_UMa_final.fits"
   ]
  },
  {
   "cell_type": "code",
   "execution_count": null,
   "metadata": {
    "collapsed": true,
    "deletable": true,
    "editable": true
   },
   "outputs": [],
   "source": [
    "iraf.wspectext(header='no')\n",
    "## Gamma_UMa_final.fits\n",
    "## Gamma_UMa_final_spec.txt"
   ]
  },
  {
   "cell_type": "markdown",
   "metadata": {
    "deletable": true,
    "editable": true
   },
   "source": [
    "Now the final spectrum is saved in `Gamma_UMa_final_spec.txt`"
   ]
  },
  {
   "cell_type": "code",
   "execution_count": null,
   "metadata": {
    "collapsed": true,
    "deletable": true,
    "editable": true
   },
   "outputs": [],
   "source": [
    "%history -f history.py"
   ]
  },
  {
   "cell_type": "markdown",
   "metadata": {
    "deletable": true,
    "editable": true
   },
   "source": [
    "#### Eta Hya"
   ]
  },
  {
   "cell_type": "markdown",
   "metadata": {},
   "source": [
    "<font color=\"red\">change paths/name in `login.cl` first</font>"
   ]
  },
  {
   "cell_type": "code",
   "execution_count": null,
   "metadata": {
    "collapsed": true,
    "deletable": true,
    "editable": true
   },
   "outputs": [],
   "source": [
    "## cd ...\n",
    "## ipython "
   ]
  },
  {
   "cell_type": "code",
   "execution_count": null,
   "metadata": {
    "collapsed": true,
    "deletable": true,
    "editable": true
   },
   "outputs": [],
   "source": [
    "import pyfits\n",
    "import numpy as np\n",
    "from pyraf import iraf"
   ]
  },
  {
   "cell_type": "code",
   "execution_count": null,
   "metadata": {
    "collapsed": true,
    "deletable": true,
    "editable": true
   },
   "outputs": [],
   "source": [
    "iraf.noao()\n",
    "iraf.twodspec()\n",
    "iraf.onedspec()\n",
    "iraf.longslit()\n",
    "iraf.apextract()\n",
    "iraf.longslit.dispaxis=2\n",
    "iraf.apextract.dispaxis=2"
   ]
  },
  {
   "cell_type": "code",
   "execution_count": null,
   "metadata": {
    "collapsed": true,
    "deletable": true,
    "editable": true
   },
   "outputs": [],
   "source": [
    "iraf.apall('U1_eta_hya_norm.fits', interactive='yes')\n",
    "## yes\n",
    "## 1\n",
    "## yes\n",
    "## yes\n",
    "## ..."
   ]
  },
  {
   "cell_type": "code",
   "execution_count": null,
   "metadata": {
    "collapsed": true,
    "deletable": true,
    "editable": true
   },
   "outputs": [],
   "source": [
    "iraf.apall('Processed_U1_helium_arc',reference='U1_eta_hya_norm')\n",
    "## no\n",
    "## no\n",
    "## no\n",
    "## no   Watch out for the questions. Might not be exactly the same as in the handout!\n",
    "## yes\n",
    "## yes\n",
    "## yes\n",
    "## yes"
   ]
  },
  {
   "cell_type": "code",
   "execution_count": null,
   "metadata": {
    "collapsed": true,
    "deletable": true,
    "editable": true
   },
   "outputs": [],
   "source": [
    "iraf.identify('Processed_U1_helium_arc.ms')"
   ]
  },
  {
   "cell_type": "code",
   "execution_count": null,
   "metadata": {
    "collapsed": true,
    "deletable": true,
    "editable": true
   },
   "outputs": [],
   "source": [
    "iraf.hedit('U1_eta_hya_norm.ms.fits',add='yes')\n",
    "## REFSPEC1\n",
    "## Processed_U1_helium_arc.ms.fits"
   ]
  },
  {
   "cell_type": "code",
   "execution_count": null,
   "metadata": {
    "collapsed": true,
    "deletable": true,
    "editable": true
   },
   "outputs": [],
   "source": [
    "iraf.dispcor()\n",
    "## U1_eta_hya_norm.ms.fits\n",
    "## U1_eta_hya_dispcor.fits"
   ]
  },
  {
   "cell_type": "code",
   "execution_count": null,
   "metadata": {
    "collapsed": true,
    "deletable": true,
    "editable": true
   },
   "outputs": [],
   "source": [
    "iraf.wspectext(header='no')\n",
    "## U1_eta_hya_dispcor.fits\n",
    "## U1_eta_hya_dispcor_spec.txt"
   ]
  },
  {
   "cell_type": "code",
   "execution_count": null,
   "metadata": {
    "collapsed": true,
    "deletable": true,
    "editable": true
   },
   "outputs": [],
   "source": [
    "iraf.standard(caldir='/afs/ir.stanford.edu/class/physics100/archive/specstandards/')\n",
    "## U1_eta_hya_dispcor.fits\n",
    "## 'std'\n",
    "## 'lick'\n",
    "## 1.0\n",
    "## hr3454\n",
    "## yes"
   ]
  },
  {
   "cell_type": "code",
   "execution_count": null,
   "metadata": {
    "collapsed": true,
    "deletable": true,
    "editable": true
   },
   "outputs": [],
   "source": [
    "iraf.sensfunc()\n",
    "## std\n",
    "## sens\n",
    "## yes"
   ]
  },
  {
   "cell_type": "code",
   "execution_count": null,
   "metadata": {
    "collapsed": true
   },
   "outputs": [],
   "source": [
    "iraf.calibrate()\n",
    "## U1_eta_hya_dispcor.fits\n",
    "## U1_eta_hya_final.fits"
   ]
  },
  {
   "cell_type": "code",
   "execution_count": null,
   "metadata": {
    "collapsed": true
   },
   "outputs": [],
   "source": [
    "iraf.wspectext(header='no')\n",
    "## U1_eta_hya_final.fits\n",
    "## U1_eta_hya_final_spec.txt"
   ]
  },
  {
   "cell_type": "markdown",
   "metadata": {},
   "source": [
    "Now the final spectrum is saved in `U1_eta_hya_final_spec.txt`"
   ]
  },
  {
   "cell_type": "code",
   "execution_count": null,
   "metadata": {
    "collapsed": true
   },
   "outputs": [],
   "source": [
    "%history -f history.py"
   ]
  },
  {
   "cell_type": "markdown",
   "metadata": {
    "deletable": true,
    "editable": true
   },
   "source": [
    "### Reduction : Science star 1\n",
    "#### Capella"
   ]
  },
  {
   "cell_type": "code",
   "execution_count": 18,
   "metadata": {
    "collapsed": false,
    "deletable": true,
    "editable": true
   },
   "outputs": [
    {
     "data": {
      "text/plain": [
       "0"
      ]
     },
     "execution_count": 18,
     "metadata": {},
     "output_type": "execute_result"
    }
   ],
   "source": [
    "os.system('cp %s/sens.fits %s/sens.0001.fits' %(gamma_uma_dir,capella_dir))"
   ]
  },
  {
   "cell_type": "markdown",
   "metadata": {
    "deletable": true,
    "editable": true
   },
   "source": [
    "<font color=\"red\">change paths/name in `login.cl` first</font><br>\n",
    "`cd` to `../capella`, then `ipython`"
   ]
  },
  {
   "cell_type": "code",
   "execution_count": null,
   "metadata": {
    "collapsed": true,
    "deletable": true,
    "editable": true
   },
   "outputs": [],
   "source": [
    "import pyfits\n",
    "import numpy as np\n",
    "from pyraf import iraf"
   ]
  },
  {
   "cell_type": "code",
   "execution_count": null,
   "metadata": {
    "collapsed": true,
    "deletable": true,
    "editable": true
   },
   "outputs": [],
   "source": [
    "iraf.noao()\n",
    "iraf.twodspec()\n",
    "iraf.onedspec()\n",
    "iraf.longslit()\n",
    "iraf.apextract()\n",
    "iraf.longslit.dispaxis=2\n",
    "iraf.apextract.dispaxis=2"
   ]
  },
  {
   "cell_type": "code",
   "execution_count": null,
   "metadata": {
    "collapsed": true,
    "deletable": true,
    "editable": true
   },
   "outputs": [],
   "source": [
    "iraf.apall('Capella_norm.fits', interactive='yes')\n",
    "## yes\n",
    "## 1\n",
    "## yes\n",
    "## yes\n",
    "## ..."
   ]
  },
  {
   "cell_type": "code",
   "execution_count": null,
   "metadata": {
    "collapsed": true,
    "deletable": true,
    "editable": true
   },
   "outputs": [],
   "source": [
    "iraf.apall('Processed_Helium1143_01',reference='Capella_norm')\n",
    "## no\n",
    "## no\n",
    "## no\n",
    "## no   Watch out for the questions. Might not be exactly the same as in the handout!\n",
    "## yes\n",
    "## yes\n",
    "## yes\n",
    "## yes"
   ]
  },
  {
   "cell_type": "code",
   "execution_count": null,
   "metadata": {
    "collapsed": true,
    "deletable": true,
    "editable": true
   },
   "outputs": [],
   "source": [
    "iraf.identify('Processed_Helium1143_01.ms')"
   ]
  },
  {
   "cell_type": "code",
   "execution_count": null,
   "metadata": {
    "collapsed": true,
    "deletable": true,
    "editable": true
   },
   "outputs": [],
   "source": [
    "iraf.hedit('Capella_norm.ms.fits',add='yes')\n",
    "## REFSPEC1\n",
    "## Processed_Helium1143_01.ms.fits\n",
    "## yes"
   ]
  },
  {
   "cell_type": "code",
   "execution_count": null,
   "metadata": {
    "collapsed": true,
    "deletable": true,
    "editable": true
   },
   "outputs": [],
   "source": [
    "iraf.dispcor()\n",
    "## Capella_norm.ms.fits\n",
    "## Capella_dispcor.fits"
   ]
  },
  {
   "cell_type": "code",
   "execution_count": null,
   "metadata": {
    "collapsed": true,
    "deletable": true,
    "editable": true
   },
   "outputs": [],
   "source": [
    "iraf.wspectext(header='no')\n",
    "## Capella_dispcor.fits\n",
    "## Capella_dispcor_spec.txt"
   ]
  },
  {
   "cell_type": "markdown",
   "metadata": {
    "deletable": true,
    "editable": true
   },
   "source": [
    "#### Calibrate"
   ]
  },
  {
   "cell_type": "code",
   "execution_count": null,
   "metadata": {
    "collapsed": true,
    "deletable": true,
    "editable": true
   },
   "outputs": [],
   "source": [
    "iraf.imred()\n",
    "iraf.specred()\n",
    "iraf.imred.specred.calibrate(sensitivity='sens')\n",
    "## Capella_dispcor.fits\n",
    "## Capella_final.fits\n",
    "## \n",
    "## 'lick'\n",
    "## 1.0"
   ]
  },
  {
   "cell_type": "code",
   "execution_count": null,
   "metadata": {
    "collapsed": true,
    "deletable": true,
    "editable": true
   },
   "outputs": [],
   "source": [
    "iraf.wspectext(header='no')\n",
    "## Capella_final.fits\n",
    "## Capella_final_spec.txt"
   ]
  },
  {
   "cell_type": "markdown",
   "metadata": {
    "deletable": true,
    "editable": true
   },
   "source": [
    "Now the final spectrum is saved in `Capella_final_spec.txt`"
   ]
  },
  {
   "cell_type": "code",
   "execution_count": null,
   "metadata": {
    "collapsed": true,
    "deletable": true,
    "editable": true
   },
   "outputs": [],
   "source": [
    "%history -f history.py"
   ]
  },
  {
   "cell_type": "markdown",
   "metadata": {
    "deletable": true,
    "editable": true
   },
   "source": [
    "### Reduction : Science star 2\n",
    "#### Alpha_Cam"
   ]
  },
  {
   "cell_type": "code",
   "execution_count": 20,
   "metadata": {
    "collapsed": false,
    "deletable": true,
    "editable": true
   },
   "outputs": [
    {
     "data": {
      "text/plain": [
       "0"
      ]
     },
     "execution_count": 20,
     "metadata": {},
     "output_type": "execute_result"
    }
   ],
   "source": [
    "os.system('cp %s/sens.fits %s/sens.0001.fits' %(eta_hya_dir,alpha_cam_dir))"
   ]
  },
  {
   "cell_type": "markdown",
   "metadata": {
    "deletable": true,
    "editable": true
   },
   "source": [
    "<font color=\"red\">change paths/name in `login.cl` first</font><br>\n",
    "`cd` to `../alpha_cam`, then `ipython`"
   ]
  },
  {
   "cell_type": "code",
   "execution_count": null,
   "metadata": {
    "collapsed": true,
    "deletable": true,
    "editable": true
   },
   "outputs": [],
   "source": [
    "import pyfits\n",
    "import numpy as np\n",
    "from pyraf import iraf"
   ]
  },
  {
   "cell_type": "code",
   "execution_count": null,
   "metadata": {
    "collapsed": true,
    "deletable": true,
    "editable": true
   },
   "outputs": [],
   "source": [
    "iraf.noao()\n",
    "iraf.twodspec()\n",
    "iraf.onedspec()\n",
    "iraf.longslit()\n",
    "iraf.apextract()\n",
    "iraf.longslit.dispaxis=2\n",
    "iraf.apextract.dispaxis=2"
   ]
  },
  {
   "cell_type": "code",
   "execution_count": null,
   "metadata": {
    "collapsed": true,
    "deletable": true,
    "editable": true
   },
   "outputs": [],
   "source": [
    "iraf.apall('U1_alpha_cam_norm.fits', interactive='yes')\n",
    "## yes\n",
    "## 1\n",
    "## yes\n",
    "## yes\n",
    "## ..."
   ]
  },
  {
   "cell_type": "code",
   "execution_count": null,
   "metadata": {
    "collapsed": true,
    "deletable": true,
    "editable": true
   },
   "outputs": [],
   "source": [
    "iraf.apall('Processed_U1_helium_arc',reference='U1_alpha_cam_norm')\n",
    "## no\n",
    "## no\n",
    "## no\n",
    "## no   Watch out for the questions. Might not be exactly the same as in the handout!\n",
    "## yes\n",
    "## yes\n",
    "## yes\n",
    "## yes"
   ]
  },
  {
   "cell_type": "code",
   "execution_count": null,
   "metadata": {
    "collapsed": true,
    "deletable": true,
    "editable": true
   },
   "outputs": [],
   "source": [
    "iraf.identify('Processed_U1_helium_arc.ms')"
   ]
  },
  {
   "cell_type": "code",
   "execution_count": null,
   "metadata": {
    "collapsed": true,
    "deletable": true,
    "editable": true
   },
   "outputs": [],
   "source": [
    "iraf.hedit('U1_alpha_cam_norm.ms.fits',add='yes')\n",
    "## REFSPEC1\n",
    "## Processed_U1_helium_arc.ms.fits"
   ]
  },
  {
   "cell_type": "code",
   "execution_count": null,
   "metadata": {
    "collapsed": true,
    "deletable": true,
    "editable": true
   },
   "outputs": [],
   "source": [
    "iraf.dispcor()\n",
    "## U1_alpha_cam_norm.ms.fits\n",
    "## U1_alpha_cam_dispcor.fits"
   ]
  },
  {
   "cell_type": "code",
   "execution_count": null,
   "metadata": {
    "collapsed": true,
    "deletable": true,
    "editable": true
   },
   "outputs": [],
   "source": [
    "iraf.wspectext(header='no')\n",
    "## U1_alpha_cam_dispcor.fits\n",
    "## U1_alpha_cam_dispcor_spec.txt"
   ]
  },
  {
   "cell_type": "markdown",
   "metadata": {
    "deletable": true,
    "editable": true
   },
   "source": [
    "#### Calibrate"
   ]
  },
  {
   "cell_type": "code",
   "execution_count": null,
   "metadata": {
    "collapsed": true,
    "deletable": true,
    "editable": true
   },
   "outputs": [],
   "source": [
    "iraf.imred()\n",
    "iraf.specred()\n",
    "iraf.imred.specred.calibrate(sensitivity='sens')\n",
    "## U1_alpha_cam_dispcor.fits\n",
    "## U1_alpha_cam_final.fits\n",
    "## \n",
    "## 'lick'\n",
    "## 1.0"
   ]
  },
  {
   "cell_type": "code",
   "execution_count": null,
   "metadata": {
    "collapsed": true,
    "deletable": true,
    "editable": true
   },
   "outputs": [],
   "source": [
    "iraf.wspectext(header='no')\n",
    "## U1_alpha_cam_final.fits\n",
    "## U1_alpha_cam_final_spec.txt"
   ]
  },
  {
   "cell_type": "markdown",
   "metadata": {
    "deletable": true,
    "editable": true
   },
   "source": [
    "Now the final spectrum is saved in `U1_alpha_Cam_final_spec.txt`"
   ]
  },
  {
   "cell_type": "code",
   "execution_count": null,
   "metadata": {
    "collapsed": true,
    "deletable": true,
    "editable": true
   },
   "outputs": [],
   "source": [
    "%history -f history.py"
   ]
  },
  {
   "cell_type": "markdown",
   "metadata": {
    "deletable": true,
    "editable": true
   },
   "source": [
    "---\n",
    "## Processed spectra"
   ]
  },
  {
   "cell_type": "code",
   "execution_count": 21,
   "metadata": {
    "collapsed": true,
    "deletable": true,
    "editable": true
   },
   "outputs": [],
   "source": [
    "import pandas as pd\n",
    "import numpy as np\n",
    "import matplotlib.pyplot as plt\n",
    "%matplotlib inline\n",
    "\n",
    "plt.rcParams['axes.titlesize'] = 20\n",
    "plt.rcParams['axes.labelsize'] = 20\n",
    "plt.rcParams['xtick.labelsize'] = 18\n",
    "plt.rcParams['ytick.labelsize'] = 18"
   ]
  },
  {
   "cell_type": "code",
   "execution_count": 26,
   "metadata": {
    "collapsed": false,
    "deletable": true,
    "editable": true
   },
   "outputs": [],
   "source": [
    "capella_spec = pd.read_csv(capella_dir+'/Capella_final_spec.txt',\n",
    "                           header=None,\n",
    "                           delim_whitespace=True)\n",
    "alpha_cam_spec = pd.read_csv(alpha_cam_dir+'/U1_alpha_cam_final_spec.txt',\n",
    "                             header=None,\n",
    "                             delim_whitespace=True)\n",
    "gamma_uma_spec = pd.read_csv(gamma_uma_dir+'/Gamma_UMa_final_spec.txt',\n",
    "                             header=None,\n",
    "                             delim_whitespace=True)\n",
    "eta_hya_spec = pd.read_csv(eta_hya_dir+'/U1_eta_hya_final_spec.txt',\n",
    "                           header=None,\n",
    "                           delim_whitespace=True)"
   ]
  },
  {
   "cell_type": "code",
   "execution_count": 27,
   "metadata": {
    "collapsed": false,
    "deletable": true,
    "editable": true
   },
   "outputs": [],
   "source": [
    "capella_wvln = capella_spec[0]\n",
    "capella_flux = capella_spec[1]\n",
    "\n",
    "alpha_cam_wvln = alpha_cam_spec[0]\n",
    "alpha_cam_flux = alpha_cam_spec[1]\n",
    "\n",
    "gamma_uma_wvln = gamma_uma_spec[0]\n",
    "gamma_uma_flux = gamma_uma_spec[1]\n",
    "\n",
    "eta_hya_wvln = eta_hya_spec[0]\n",
    "eta_hya_flux = eta_hya_spec[1]"
   ]
  },
  {
   "cell_type": "code",
   "execution_count": 44,
   "metadata": {
    "collapsed": false,
    "deletable": true,
    "editable": true
   },
   "outputs": [
    {
     "data": {
      "image/png": "[encoded data removed]",
      "text/plain": [
       "<matplotlib.figure.Figure at 0x7f35d5fda6d0>"
      ]
     },
     "metadata": {},
     "output_type": "display_data"
    }
   ],
   "source": [
    "plt.figure(figsize=(16,36))\n",
    "plt.subplot(411); plt.plot(capella_wvln,capella_flux,lw=6); \n",
    "plt.title('Capella'); plt.xlabel('Wavelength (A)'); plt.ylabel('Flux')\n",
    "plt.xlim(3600,7600); plt.ylim(0,np.max(capella_flux[20:]))\n",
    "plt.subplot(412); plt.plot(alpha_cam_wvln,alpha_cam_flux,'r',lw=6); \n",
    "plt.title(r'$\\alpha$ Cam'); plt.xlabel('Wavelength (A)'); plt.ylabel('Flux')\n",
    "plt.xlim(3500,7600); plt.ylim(0,5e-9)\n",
    "plt.subplot(413); plt.plot(gamma_uma_wvln,gamma_uma_flux,'g',lw=6); \n",
    "plt.title(r'$\\gamma$ UMa'); plt.xlabel('Wavelength (A)'); plt.ylabel('Flux')\n",
    "plt.xlim(3600,7600); plt.ylim(0,np.max(gamma_uma_flux[20:]))\n",
    "plt.subplot(414); plt.plot(eta_hya_wvln,eta_hya_flux,'k',lw=6); \n",
    "plt.title(r'$\\eta$ Hya'); plt.xlabel('Wavelength (A)'); plt.ylabel('Flux')\n",
    "plt.xlim(3600,7600); plt.ylim(0,np.max(eta_hya_flux[20:]))\n",
    "\n",
    "plt.savefig('spectra.png',dpi=300)"
   ]
  },
  {
   "cell_type": "code",
   "execution_count": null,
   "metadata": {
    "collapsed": true
   },
   "outputs": [],
   "source": []
  }
 ],
 "metadata": {
  "kernelspec": {
   "display_name": "Python 2",
   "language": "python",
   "name": "python2"
  },
  "language_info": {
   "codemirror_mode": {
    "name": "ipython",
    "version": 2
   },
   "file_extension": ".py",
   "mimetype": "text/x-python",
   "name": "python",
   "nbconvert_exporter": "python",
   "pygments_lexer": "ipython2",
   "version": "2.7.6"
  }
 },
 "nbformat": 4,
 "nbformat_minor": 2
}
