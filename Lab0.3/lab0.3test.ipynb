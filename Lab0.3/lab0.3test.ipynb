{
 "cells": [
  {
   "cell_type": "markdown",
   "metadata": {},
   "source": [
    "### Ex2"
   ]
  },
  {
   "cell_type": "code",
   "execution_count": 8,
   "metadata": {
    "collapsed": true
   },
   "outputs": [],
   "source": [
    "fruitPrices = {'apples' : 2.00,\n",
    "               'oranges': 1.50,\n",
    "               'pears'  : 1.75, \n",
    "               'limes'  : 0.75,\n",
    "               'strawberries': 1.00,\n",
    "               'bananas'     : 0.79, # new fruits\n",
    "               'applepears'  : 1.24}\n",
    "\n",
    "def buyLotsOfFruit(orderList):\n",
    "    \"\"\"\n",
    "        orderList: List of (fruit, numPounds) tuples\n",
    "            \n",
    "    Returns cost of order\n",
    "    \"\"\"\n",
    "    cost = 0.\n",
    "    for (fruit,num) in orderList:\n",
    "        try: \n",
    "            cost += fruitPrices[fruit] * num\n",
    "        except:\n",
    "            print('This fruit not in list!')\n",
    "            return None\n",
    "    return cost"
   ]
  },
  {
   "cell_type": "code",
   "execution_count": 10,
   "metadata": {
    "collapsed": false
   },
   "outputs": [
    {
     "name": "stdout",
     "output_type": "stream",
     "text": [
      "This fruit not in list!\n"
     ]
    }
   ],
   "source": [
    "buyLotsOfFruit([ ('apples', 2.0), ('pears',3.0), ('limes',4.0),('hha',5.) ])"
   ]
  },
  {
   "cell_type": "markdown",
   "metadata": {},
   "source": [
    "### Ex3"
   ]
  },
  {
   "cell_type": "code",
   "execution_count": 28,
   "metadata": {
    "collapsed": false
   },
   "outputs": [],
   "source": [
    "import numpy as np\n",
    "x = np.array([1,  5, -2, 6, 8, 10])\n",
    "y = np.array([-1, 0,  1, 1, 2,  3])\n",
    "\n",
    "a = np.dot(x,y)\n",
    "\n",
    "z1 = np.copy(x)\n",
    "z1[x<0] = 0\n",
    "\n",
    "z2 = x[y>0]\n",
    "\n",
    "z3 = np.sum(y[x%2==0])"
   ]
  },
  {
   "cell_type": "markdown",
   "metadata": {},
   "source": [
    "### Ex4"
   ]
  },
  {
   "cell_type": "code",
   "execution_count": 33,
   "metadata": {
    "collapsed": false
   },
   "outputs": [
    {
     "data": {
      "image/png": "[encoded data removed]",
      "text/plain": [
       "<matplotlib.figure.Figure at 0x1163b8d90>"
      ]
     },
     "metadata": {},
     "output_type": "display_data"
    }
   ],
   "source": [
    "from matplotlib import pylab as plt\n",
    "\n",
    "x = plt.randn(10000)\n",
    "plt.hist(x,100)\n",
    "plt.savefig('histogram.png')"
   ]
  },
  {
   "cell_type": "markdown",
   "metadata": {},
   "source": [
    "### Ex5"
   ]
  },
  {
   "cell_type": "code",
   "execution_count": 41,
   "metadata": {
    "collapsed": false
   },
   "outputs": [
    {
     "data": {
      "image/png": "[encoded data removed]",
      "text/plain": [
       "<matplotlib.figure.Figure at 0x117eb74d0>"
      ]
     },
     "metadata": {},
     "output_type": "display_data"
    }
   ],
   "source": [
    "from matplotlib import pylab as plt\n",
    "import math\n",
    "\n",
    "x = plt.randn(10000)\n",
    "plt.plot(x,plt.sin(x/50*math.pi),'b-', x,plt.cos(x/50*math.pi),'r--')\n",
    "plt.legend( ('sin','cos') )\n",
    "\n",
    "plt.savefig('trip.png')"
   ]
  },
  {
   "cell_type": "code",
   "execution_count": null,
   "metadata": {
    "collapsed": true
   },
   "outputs": [],
   "source": []
  }
 ],
 "metadata": {
  "kernelspec": {
   "display_name": "Python 2",
   "language": "python",
   "name": "python2"
  },
  "language_info": {
   "codemirror_mode": {
    "name": "ipython",
    "version": 2
   },
   "file_extension": ".py",
   "mimetype": "text/x-python",
   "name": "python",
   "nbconvert_exporter": "python",
   "pygments_lexer": "ipython2",
   "version": "2.7.13"
  }
 },
 "nbformat": 4,
 "nbformat_minor": 0
}
